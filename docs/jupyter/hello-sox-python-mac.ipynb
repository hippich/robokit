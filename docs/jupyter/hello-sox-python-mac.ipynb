{
 "cells": [
  {
   "cell_type": "code",
   "execution_count": 2,
   "metadata": {},
   "outputs": [
    {
     "name": "stdout",
     "output_type": "stream",
     "text": [
      "Hello, sox.\n"
     ]
    }
   ],
   "source": [
    "print(\"Hello, sox.\")"
   ]
  },
  {
   "cell_type": "code",
   "execution_count": 4,
   "metadata": {},
   "outputs": [
    {
     "name": "stdout",
     "output_type": "stream",
     "text": [
      "b'sox:      SoX v\\n'\n"
     ]
    }
   ],
   "source": [
    "from subprocess import Popen, PIPE\n",
    " \n",
    "process = Popen(['sox', '--version'], stdout=PIPE, stderr=PIPE)\n",
    "stdout, stderr = process.communicate()\n",
    "print (stdout)"
   ]
  },
  {
   "cell_type": "code",
   "execution_count": 5,
   "metadata": {},
   "outputs": [
    {
     "name": "stdout",
     "output_type": "stream",
     "text": [
      "b''\n"
     ]
    }
   ],
   "source": [
    "from subprocess import Popen, PIPE\n",
    " \n",
    "process = Popen(['sox', 'audio/synth.wav', '-d'], stdout=PIPE, stderr=PIPE)\n",
    "stdout, stderr = process.communicate()\n",
    "print (stdout)"
   ]
  },
  {
   "cell_type": "code",
   "execution_count": 6,
   "metadata": {},
   "outputs": [
    {
     "data": {
      "text/plain": [
       "0"
      ]
     },
     "execution_count": 6,
     "metadata": {},
     "output_type": "execute_result"
    }
   ],
   "source": [
    "#from subprocess import Popen, PIPE\n",
    " \n",
    "#process = Popen(['sox', '−r', '8000', '−n', 'synth', '3', 'sine', '300−3300'], stdout=PIPE, stderr=PIPE)\n",
    "#stdout, stderr = process.communicate()\n",
    "#print (stdout, stderr)\n",
    "\n",
    "import os\n",
    "os.system('sox -r 8000 -n -d synth 3 sine 300-3000')"
   ]
  },
  {
   "cell_type": "code",
   "execution_count": 7,
   "metadata": {},
   "outputs": [
    {
     "data": {
      "text/plain": [
       "0"
      ]
     },
     "execution_count": 7,
     "metadata": {},
     "output_type": "execute_result"
    }
   ],
   "source": [
    "#from subprocess import Popen, PIPE, call\n",
    " \n",
    "#process = Popen(['sox', '−r', '8000', '−n', 'audio/output.wav', 'synth', '3', 'sine', '300−3300'], stdout=PIPE, stderr=PIPE)\n",
    "#process = call('sox -r 8000 -n audio/output.wav synth 3 sine 300-3000')\n",
    "#stdout, stderr = process.communicate()\n",
    "#print (stdout, stderr)\n",
    "\n",
    "import os\n",
    "os.system('sox -r 8000 -n audio/output.wav synth 3 sine 300-3000')"
   ]
  },
  {
   "cell_type": "code",
   "execution_count": 8,
   "metadata": {},
   "outputs": [
    {
     "name": "stdout",
     "output_type": "stream",
     "text": [
      "b''\n"
     ]
    }
   ],
   "source": [
    "from subprocess import Popen, PIPE\n",
    " \n",
    "process = Popen(['sox', 'audio/output.wav', '-d'], stdout=PIPE, stderr=PIPE)\n",
    "stdout, stderr = process.communicate()\n",
    "print (stdout)"
   ]
  },
  {
   "cell_type": "markdown",
   "metadata": {},
   "source": [
    "Microphone Test: Run the next cell and speak into the microphone..."
   ]
  },
  {
   "cell_type": "code",
   "execution_count": 10,
   "metadata": {},
   "outputs": [
    {
     "name": "stdout",
     "output_type": "stream",
     "text": [
      "b'' b\"sox WARN formats: can't set sample rate 16000; using 44100\\nsox WARN formats: can't set 1 channels; using 2\\nsox WARN sox: `coreaudio' input clipped 134 samples\\n\"\n"
     ]
    }
   ],
   "source": [
    "from subprocess import Popen, PIPE\n",
    " \n",
    "process = Popen(['sox', '-q', '-b', '16', '--endian', 'little', '-c', '1', '-r', '16000', '-e', 'signed-integer', '-d', 'audio/microphone.wav', 'trim', '0', '6'], stdout=PIPE, stderr=PIPE)\n",
    "stdout, stderr = process.communicate()\n",
    "print (stdout, stderr)"
   ]
  },
  {
   "cell_type": "code",
   "execution_count": 11,
   "metadata": {},
   "outputs": [
    {
     "name": "stdout",
     "output_type": "stream",
     "text": [
      "b''\n"
     ]
    }
   ],
   "source": [
    "from subprocess import Popen, PIPE\n",
    " \n",
    "process = Popen(['sox', 'audio/microphone.wav', '-d'], stdout=PIPE, stderr=PIPE)\n",
    "stdout, stderr = process.communicate()\n",
    "print (stdout)"
   ]
  },
  {
   "cell_type": "code",
   "execution_count": null,
   "metadata": {},
   "outputs": [],
   "source": []
  }
 ],
 "metadata": {
  "kernelspec": {
   "display_name": "Python 3",
   "language": "python",
   "name": "python3"
  },
  "language_info": {
   "codemirror_mode": {
    "name": "ipython",
    "version": 3
   },
   "file_extension": ".py",
   "mimetype": "text/x-python",
   "name": "python",
   "nbconvert_exporter": "python",
   "pygments_lexer": "ipython3",
   "version": "3.7.1"
  }
 },
 "nbformat": 4,
 "nbformat_minor": 2
}
